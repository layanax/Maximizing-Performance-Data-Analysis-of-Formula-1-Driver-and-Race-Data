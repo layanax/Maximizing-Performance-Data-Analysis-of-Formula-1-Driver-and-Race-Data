{
 "cells": [
  {
   "cell_type": "code",
   "execution_count": null,
   "metadata": {},
   "outputs": [
    {
     "ename": "",
     "evalue": "",
     "output_type": "error",
     "traceback": [
      "\u001b[1;31mRunning cells with 'Python 3.13.0' requires the ipykernel package.\n",
      "\u001b[1;31mRun the following command to install 'ipykernel' into the Python environment. \n",
      "\u001b[1;31mCommand: '/opt/homebrew/bin/python3 -m pip install ipykernel -U --user --force-reinstall'"
     ]
    }
   ],
   "source": [
    "import pandas as pd\n",
    "import matplotlib.pyplot as plt\n",
    "import plotly.express as px\n",
    "import seaborn as sns\n",
    "import numpy as np\n",
    "from sklearn.model_selection import train_test_split\n",
    "from sklearn.linear_model import LinearRegression\n",
    "from sklearn.ensemble import RandomForestRegressor\n",
    "from sklearn.metrics import mean_squared_error\n",
    "\n"
   ]
  },
  {
   "cell_type": "code",
   "execution_count": null,
   "metadata": {},
   "outputs": [],
   "source": [
    "df = pd.read_csv(\"F1DriversDataset 2.csv\")\n",
    "df"
   ]
  },
  {
   "cell_type": "code",
   "execution_count": null,
   "metadata": {},
   "outputs": [],
   "source": [
    "df.head()"
   ]
  },
  {
   "cell_type": "code",
   "execution_count": null,
   "metadata": {},
   "outputs": [],
   "source": [
    "df.columns"
   ]
  },
  {
   "attachments": {},
   "cell_type": "markdown",
   "metadata": {},
   "source": [
    "# What is the distribution of drivers' nationalities in the dataset?"
   ]
  },
  {
   "cell_type": "code",
   "execution_count": null,
   "metadata": {},
   "outputs": [],
   "source": [
    "nationality_drivers = df['Nationality'].value_counts().sort_values(ascending=False).head(20)\n",
    "nationality_drivers"
   ]
  },
  {
   "cell_type": "code",
   "execution_count": null,
   "metadata": {},
   "outputs": [],
   "source": [
    "\n",
    "def generate_chart(names, values):\n",
    "    df = px.data.tips() \n",
    "    fig = px.pie(df, values=values, names=names, color_discrete_sequence=px.colors.sequential.RdBu)\n",
    "    return fig\n",
    "\n",
    "generate_chart(nationality_drivers.index,nationality_drivers.values)\n",
    "\n",
    "\n"
   ]
  },
  {
   "attachments": {},
   "cell_type": "markdown",
   "metadata": {},
   "source": [
    "There are more drivers from the UK than the US."
   ]
  },
  {
   "attachments": {},
   "cell_type": "markdown",
   "metadata": {},
   "source": [
    "# What is the correlation between the number of seasons a driver participates in and their number of race wins?"
   ]
  },
  {
   "cell_type": "code",
   "execution_count": null,
   "metadata": {},
   "outputs": [],
   "source": [
    "df_winsvsyears = df[['Years_Active','Race_Wins']]\n",
    "df_winsvsyears.head()"
   ]
  },
  {
   "cell_type": "code",
   "execution_count": null,
   "metadata": {},
   "outputs": [],
   "source": [
    "df_winsvsyears.isnull().sum()"
   ]
  },
  {
   "cell_type": "code",
   "execution_count": 115,
   "metadata": {},
   "outputs": [],
   "source": [
    "X= df_winsvsyears['Years_Active'].to_numpy().reshape(-1,1)\n",
    "y = df_winsvsyears['Race_Wins'].to_numpy().reshape(-1,1).ravel()"
   ]
  },
  {
   "cell_type": "code",
   "execution_count": 116,
   "metadata": {},
   "outputs": [],
   "source": [
    "\n",
    "X_train, X_test, y_train, y_test = train_test_split(X, y, test_size=0.2, random_state=42)\n",
    "\n",
    "rf_regressor = RandomForestRegressor(n_estimators=200, max_depth=None)\n",
    "\n",
    "rf_regressor.fit(X_train, y_train)\n",
    "\n",
    "y_pred = rf_regressor.predict(X_test)\n",
    "\n"
   ]
  },
  {
   "cell_type": "code",
   "execution_count": null,
   "metadata": {},
   "outputs": [],
   "source": [
    "corr_coef = df['Years_Active'].corr(df['Race_Wins'])\n",
    "mse = mean_squared_error(y_test, y_pred)\n",
    "\n",
    "print(\"Mean Squared Error: \", mse)\n",
    "print(\"corr coef\",corr_coef)"
   ]
  },
  {
   "attachments": {},
   "cell_type": "markdown",
   "metadata": {},
   "source": [
    "there may be other factors beyond the number of years of experience that contribute to a driver's success in Formula 1."
   ]
  },
  {
   "attachments": {},
   "cell_type": "markdown",
   "metadata": {},
   "source": [
    "# Pole positions vs Race wins of champions"
   ]
  },
  {
   "cell_type": "code",
   "execution_count": null,
   "metadata": {},
   "outputs": [],
   "source": [
    "df_champions = df.query('Championships > 0')\n",
    "df_champions.head()"
   ]
  },
  {
   "cell_type": "code",
   "execution_count": null,
   "metadata": {},
   "outputs": [],
   "source": [
    "df_champions.isnull().sum()"
   ]
  },
  {
   "cell_type": "code",
   "execution_count": 120,
   "metadata": {},
   "outputs": [],
   "source": [
    "from sklearn.metrics import mean_squared_error\n",
    "def linear_regression(df, predictor, target):\n",
    "    \n",
    "    # to fit a linear regression model to the data\n",
    "    X = df[predictor].values.reshape(-1,1)\n",
    "    y = df[target].values.reshape(-1,1)\n",
    "    \n",
    "    regressor = LinearRegression()\n",
    "    regressor.fit(X, y)\n",
    "    \n",
    "    # Calculate the R-squared value of the linear regression model\n",
    "    r_squared = regressor.score(X, y)\n",
    "    \n",
    "    # Calculate the correlation coefficient \n",
    "    corr_coef = df[predictor].corr(df[target])\n",
    "    \n",
    "    # Predict the target variable using the predictor variable\n",
    "    y_pred = regressor.predict(X)\n",
    "    \n",
    "    # Calculate the prediction score\n",
    "    prediction_score = mean_squared_error(y, y_pred)\n",
    "    \n",
    "    # Create a scatter plot to visualize the relationship between the predictor and target\n",
    "    fig = sns.lmplot(x=predictor,y=target,data=df)\n",
    "    \n",
    "    # Plot the regression line on top of the scatter plot\n",
    "    plt.plot(df[predictor], regressor.predict(df[[predictor]]), color='red')\n",
    "    plt.title('Race Wins vs Pole Positions')\n",
    "    return corr_coef, r_squared, y_pred, prediction_score, fig\n"
   ]
  },
  {
   "cell_type": "code",
   "execution_count": null,
   "metadata": {},
   "outputs": [],
   "source": [
    "corr_coef, r_squared, y_pred, prediction_score, fig = linear_regression(df_champions, 'Pole_Positions', 'Race_Wins')\n",
    "\n",
    "\n",
    "print('prediction_score', prediction_score)\n",
    "print('correlation coefficient', corr_coef)\n",
    "print('R-squared:', r_squared)\n",
    "\n"
   ]
  },
  {
   "attachments": {},
   "cell_type": "markdown",
   "metadata": {},
   "source": [
    "the pole position is a very good predictor of race wins for champions, and that a higher pole position is generally associated with a higher number of race wins."
   ]
  },
  {
   "attachments": {},
   "cell_type": "markdown",
   "metadata": {},
   "source": [
    "#### What does it take to become a Champion?"
   ]
  },
  {
   "cell_type": "code",
   "execution_count": null,
   "metadata": {},
   "outputs": [],
   "source": [
    "print(df.corr())\n",
    "plt.figure(figsize=(12,12))\n",
    "dataplot = sns.heatmap(df.corr(), cmap=\"YlGnBu\", annot=True)"
   ]
  },
  {
   "cell_type": "code",
   "execution_count": null,
   "metadata": {},
   "outputs": [],
   "source": [
    "columns=['Pole_Rate','Start_Rate','Win_Rate','Podium_Rate','FastLap_Rate','Years_Active']\n",
    "plt.figure(figsize=(20, 15))\n",
    "i=0\n",
    "for col in columns:\n",
    "    i=i+1\n",
    "    plt.subplot(2,3,i)\n",
    "    sns.regplot(x = col, y = 'Championships', data = df,order=1)\n",
    "plt.show()"
   ]
  },
  {
   "cell_type": "code",
   "execution_count": null,
   "metadata": {},
   "outputs": [],
   "source": [
    "columns=['Pole_Rate','Start_Rate','Win_Rate','Podium_Rate','FastLap_Rate','Years_Active']\n",
    "plt.figure(figsize=(20, 15))\n",
    "i=0\n",
    "for col in columns:\n",
    "    i=i+1\n",
    "    plt.subplot(2,3,i)\n",
    "    sns.regplot(x = col, y = 'Championships', data = df,order=2)\n",
    "plt.show()"
   ]
  },
  {
   "attachments": {},
   "cell_type": "markdown",
   "metadata": {},
   "source": [
    "Binary classification is done using SGD classifier"
   ]
  },
  {
   "cell_type": "code",
   "execution_count": 131,
   "metadata": {},
   "outputs": [],
   "source": [
    "from sklearn.linear_model import SGDClassifier\n",
    "from sklearn.preprocessing import StandardScaler\n",
    "from sklearn.pipeline import make_pipeline\n",
    "from sklearn import metrics\n",
    "from sklearn.metrics import confusion_matrix, ConfusionMatrixDisplay\n",
    "import matplotlib.pyplot as plt\n",
    "import numpy as np"
   ]
  },
  {
   "cell_type": "code",
   "execution_count": 132,
   "metadata": {},
   "outputs": [],
   "source": [
    "target = df['Champion']\n",
    "features = df[['Race_Entries',\n",
    "       'Race_Starts', 'Pole_Positions', 'Race_Wins', 'Podiums', 'Fastest_Laps',\n",
    "       'Points']]\n",
    "X= features.values\n",
    "Y=target.values\n",
    "X_train, X_test, y_train, y_test = train_test_split(X, Y, test_size=0.2, random_state=42)\n",
    " # Always scale the input. The most convenient way is to use a pipeline.\n",
    "clf = SGDClassifier(random_state=42)\n",
    "\n",
    "model = clf.fit(X_train, y_train)\n"
   ]
  },
  {
   "cell_type": "code",
   "execution_count": null,
   "metadata": {},
   "outputs": [],
   "source": [
    "y_pred = clf.predict(X_test)\n",
    "\n",
    "accuracy = metrics.accuracy_score(y_test, y_pred)\n",
    "precision = metrics.precision_score(y_test, y_pred,average=\"macro\")\n",
    "\n",
    "print(\"Accuracy:\", accuracy)\n",
    "print(\"Precision:\", precision)"
   ]
  },
  {
   "cell_type": "code",
   "execution_count": null,
   "metadata": {},
   "outputs": [],
   "source": [
    "matrix = confusion_matrix(y_test, y_pred)\n",
    "print(matrix)\n",
    "sns.heatmap(matrix, annot=True, cmap='Reds')"
   ]
  },
  {
   "cell_type": "code",
   "execution_count": null,
   "metadata": {},
   "outputs": [],
   "source": [
    "ConfusionMatrixDisplay.from_estimator(model, X_test, y_test,cmap=plt.cm.Blues, normalize='true')"
   ]
  },
  {
   "attachments": {},
   "cell_type": "markdown",
   "metadata": {},
   "source": [
    "Based on the heatmap of the confusion matrix and the normalized confusion matrix, the SGDClassifier returns a good prediction of whether a person can become a Champion or not using the features Race_Entries, Race_Starts, Pole_Positions, Race_Wins, Podiums, Fastest_Laps, and Points. The model has a high accuracy and a low false negative rate, indicating that it correctly identifies most of the champions while only misclassifying a few non-champions. However, given the unpredictability of F1 races, we cannot conclusively prove that this is the best mode of classification."
   ]
  }
 ],
 "metadata": {
  "kernelspec": {
   "display_name": "Python 3",
   "language": "python",
   "name": "python3"
  },
  "language_info": {
   "codemirror_mode": {
    "name": "ipython",
    "version": 3
   },
   "file_extension": ".py",
   "mimetype": "text/x-python",
   "name": "python",
   "nbconvert_exporter": "python",
   "pygments_lexer": "ipython3",
   "version": "3.13.0"
  },
  "orig_nbformat": 4,
  "vscode": {
   "interpreter": {
    "hash": "7f606775ece6b21ef7aec03b69bd25273613d5ecd43b1a1904a508f446c483c9"
   }
  }
 },
 "nbformat": 4,
 "nbformat_minor": 2
}
